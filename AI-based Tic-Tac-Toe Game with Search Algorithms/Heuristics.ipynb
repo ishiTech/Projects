{
 "cells": [
  {
   "cell_type": "code",
   "execution_count": 2,
   "id": "40123f85-0920-488d-a4d3-93acb0b7a81e",
   "metadata": {},
   "outputs": [
    {
     "name": "stdout",
     "output_type": "stream",
     "text": [
      "Choose Game Mode:\n",
      "1. Player vs Player\n",
      "2. Player vs AI\n"
     ]
    },
    {
     "name": "stdin",
     "output_type": "stream",
     "text": [
      "Enter choice (1 or 2):  2\n"
     ]
    },
    {
     "name": "stdout",
     "output_type": "stream",
     "text": [
      "  |   |  \n",
      "---------\n",
      "  |   |  \n",
      "---------\n",
      "  |   |  \n",
      "---------\n",
      "You are 'O', AI is 'X'\n"
     ]
    },
    {
     "name": "stdin",
     "output_type": "stream",
     "text": [
      "Player O, enter row and column (0-2, space separated):  0 0\n"
     ]
    },
    {
     "name": "stdout",
     "output_type": "stream",
     "text": [
      "O |   |  \n",
      "---------\n",
      "  |   |  \n",
      "---------\n",
      "  |   |  \n",
      "---------\n",
      "\n",
      "AI's Move:\n",
      "O |   |  \n",
      "---------\n",
      "  | X |  \n",
      "---------\n",
      "  |   |  \n",
      "---------\n"
     ]
    },
    {
     "name": "stdin",
     "output_type": "stream",
     "text": [
      "Player O, enter row and column (0-2, space separated):  2 0\n"
     ]
    },
    {
     "name": "stdout",
     "output_type": "stream",
     "text": [
      "O |   |  \n",
      "---------\n",
      "  | X |  \n",
      "---------\n",
      "O |   |  \n",
      "---------\n",
      "\n",
      "AI's Move:\n",
      "O |   |  \n",
      "---------\n",
      "X | X |  \n",
      "---------\n",
      "O |   |  \n",
      "---------\n"
     ]
    },
    {
     "name": "stdin",
     "output_type": "stream",
     "text": [
      "Player O, enter row and column (0-2, space separated):  1 2\n"
     ]
    },
    {
     "name": "stdout",
     "output_type": "stream",
     "text": [
      "O |   |  \n",
      "---------\n",
      "X | X | O\n",
      "---------\n",
      "O |   |  \n",
      "---------\n",
      "\n",
      "AI's Move:\n",
      "O |   | X\n",
      "---------\n",
      "X | X | O\n",
      "---------\n",
      "O |   |  \n",
      "---------\n"
     ]
    },
    {
     "name": "stdin",
     "output_type": "stream",
     "text": [
      "Player O, enter row and column (0-2, space separated):  2 1\n"
     ]
    },
    {
     "name": "stdout",
     "output_type": "stream",
     "text": [
      "O |   | X\n",
      "---------\n",
      "X | X | O\n",
      "---------\n",
      "O | O |  \n",
      "---------\n",
      "\n",
      "AI's Move:\n",
      "O |   | X\n",
      "---------\n",
      "X | X | O\n",
      "---------\n",
      "O | O | X\n",
      "---------\n"
     ]
    },
    {
     "name": "stdin",
     "output_type": "stream",
     "text": [
      "Player O, enter row and column (0-2, space separated):  0 1\n"
     ]
    },
    {
     "name": "stdout",
     "output_type": "stream",
     "text": [
      "O | O | X\n",
      "---------\n",
      "X | X | O\n",
      "---------\n",
      "O | O | X\n",
      "---------\n",
      "It's a Draw!\n"
     ]
    }
   ],
   "source": [
    "import random\n",
    "\n",
    "def check_winner(board):\n",
    "    for row in board:\n",
    "        if row[0] == row[1] == row[2] and row[0] is not None:\n",
    "            return row[0]\n",
    "    for col in range(3):\n",
    "        if board[0][col] == board[1][col] == board[2][col] and board[0][col] is not None:\n",
    "            return board[0][col]\n",
    "    if board[0][0] == board[1][1] == board[2][2] and board[0][0] is not None:\n",
    "        return board[0][0]\n",
    "    if board[0][2] == board[1][1] == board[2][0] and board[0][2] is not None:\n",
    "        return board[0][2]\n",
    "    return None\n",
    "\n",
    "def is_draw(board):\n",
    "    return all(cell is not None for row in board for cell in row)\n",
    "\n",
    "def print_board(board):\n",
    "    for row in board:\n",
    "        print(\" | \".join([cell if cell else \" \" for cell in row]))\n",
    "        print(\"-\" * 9)\n",
    "\n",
    "def player_move(board, player):\n",
    "    while True:\n",
    "        try:\n",
    "            row, col = map(int, input(f\"Player {player}, enter row and column (0-2, space separated): \").split())\n",
    "            if board[row][col] is None:\n",
    "                board[row][col] = player\n",
    "                break\n",
    "            else:\n",
    "                print(\"Cell already occupied! Try again.\")\n",
    "        except (ValueError, IndexError):\n",
    "            print(\"Invalid input! Enter row and column (0-2).\")\n",
    "\n",
    "def get_empty_cells(board):\n",
    "    return [(i, j) for i in range(3) for j in range(3) if board[i][j] is None]\n",
    "\n",
    "def can_win(board, player):\n",
    "    for i, j in get_empty_cells(board):\n",
    "        board[i][j] = player\n",
    "        if check_winner(board) == player:\n",
    "            board[i][j] = None\n",
    "            return (i, j)\n",
    "        board[i][j] = None\n",
    "    return None\n",
    "\n",
    "def heuristic_move(board):\n",
    "    # Rule 1: Win if possible\n",
    "    move = can_win(board, \"X\")\n",
    "    if move:\n",
    "        return move\n",
    "\n",
    "    # Rule 2: Block opponent's winning move\n",
    "    move = can_win(board, \"O\")\n",
    "    if move:\n",
    "        return move\n",
    "\n",
    "    # Rule 3: Take center\n",
    "    if board[1][1] is None:\n",
    "        return (1, 1)\n",
    "\n",
    "    # Rule 4: Take a corner\n",
    "    for i, j in [(0, 0), (0, 2), (2, 0), (2, 2)]:\n",
    "        if board[i][j] is None:\n",
    "            return (i, j)\n",
    "\n",
    "    # Rule 5: Take any side\n",
    "    for i, j in [(0, 1), (1, 0), (1, 2), (2, 1)]:\n",
    "        if board[i][j] is None:\n",
    "            return (i, j)\n",
    "\n",
    "    return None\n",
    "\n",
    "def play_game():\n",
    "    board = [[None] * 3 for _ in range(3)]\n",
    "    print(\"Choose Game Mode:\")\n",
    "    print(\"1. Player vs Player\")\n",
    "    print(\"2. Player vs AI\")\n",
    "\n",
    "    while True:\n",
    "        mode = input(\"Enter choice (1 or 2): \")\n",
    "        if mode in (\"1\", \"2\"):\n",
    "            break\n",
    "        print(\"Invalid choice! Enter 1 or 2.\")\n",
    "\n",
    "    print_board(board)\n",
    "    if mode == \"1\":\n",
    "        player_vs_player(board)\n",
    "    else:\n",
    "        player_vs_ai(board)\n",
    "\n",
    "def player_vs_player(board):\n",
    "    current_player = \"O\"\n",
    "    while True:\n",
    "        player_move(board, current_player)\n",
    "        print_board(board)\n",
    "        if check_winner(board) == current_player:\n",
    "            print(f\"Player {current_player} Wins!\")\n",
    "            break\n",
    "        elif is_draw(board):\n",
    "            print(\"It's a Draw!\")\n",
    "            break\n",
    "        current_player = \"X\" if current_player == \"O\" else \"O\"\n",
    "\n",
    "def player_vs_ai(board):\n",
    "    print(\"You are 'O', AI is 'X'\")\n",
    "    while True:\n",
    "        player_move(board, \"O\")\n",
    "        print_board(board)\n",
    "        if check_winner(board) == \"O\":\n",
    "            print(\"You Win!\")\n",
    "            break\n",
    "        elif is_draw(board):\n",
    "            print(\"It's a Draw!\")\n",
    "            break\n",
    "\n",
    "        move = heuristic_move(board)\n",
    "        if move:\n",
    "            board[move[0]][move[1]] = \"X\"\n",
    "            print(\"\\nAI's Move:\")\n",
    "            print_board(board)\n",
    "\n",
    "        if check_winner(board) == \"X\":\n",
    "            print(\"AI Wins!\")\n",
    "            break\n",
    "        elif is_draw(board):\n",
    "            print(\"It's a Draw!\")\n",
    "            break\n",
    "\n",
    "play_game()\n"
   ]
  },
  {
   "cell_type": "code",
   "execution_count": null,
   "id": "252eeb70-0093-4cc1-a0c7-49bfeb467020",
   "metadata": {},
   "outputs": [],
   "source": []
  }
 ],
 "metadata": {
  "kernelspec": {
   "display_name": "Python [conda env:base] *",
   "language": "python",
   "name": "conda-base-py"
  },
  "language_info": {
   "codemirror_mode": {
    "name": "ipython",
    "version": 3
   },
   "file_extension": ".py",
   "mimetype": "text/x-python",
   "name": "python",
   "nbconvert_exporter": "python",
   "pygments_lexer": "ipython3",
   "version": "3.12.7"
  }
 },
 "nbformat": 4,
 "nbformat_minor": 5
}
