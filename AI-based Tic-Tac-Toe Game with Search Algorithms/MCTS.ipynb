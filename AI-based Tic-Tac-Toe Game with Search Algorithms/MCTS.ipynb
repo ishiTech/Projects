{
 "cells": [
  {
   "cell_type": "code",
   "execution_count": 1,
   "id": "9a7b7ff8-7a00-4e38-a97b-6744322a9334",
   "metadata": {},
   "outputs": [
    {
     "name": "stdout",
     "output_type": "stream",
     "text": [
      "Choose Game Mode:\n",
      "1. Player vs Player\n",
      "2. Player vs AI\n"
     ]
    },
    {
     "name": "stdin",
     "output_type": "stream",
     "text": [
      "Enter choice (1 or 2):  0 0\n"
     ]
    },
    {
     "name": "stdout",
     "output_type": "stream",
     "text": [
      "Invalid choice! Enter 1 or 2.\n"
     ]
    },
    {
     "name": "stdin",
     "output_type": "stream",
     "text": [
      "Enter choice (1 or 2):  2\n"
     ]
    },
    {
     "name": "stdout",
     "output_type": "stream",
     "text": [
      "  |   |  \n",
      "---------\n",
      "  |   |  \n",
      "---------\n",
      "  |   |  \n",
      "---------\n",
      "You are 'O', AI is 'X'\n"
     ]
    },
    {
     "name": "stdin",
     "output_type": "stream",
     "text": [
      "Player O, enter row and column (0-2, space separated):  0 0\n"
     ]
    },
    {
     "name": "stdout",
     "output_type": "stream",
     "text": [
      "O |   |  \n",
      "---------\n",
      "  |   |  \n",
      "---------\n",
      "  |   |  \n",
      "---------\n",
      "\n",
      "AI's Move:\n",
      "O |   |  \n",
      "---------\n",
      "  | X |  \n",
      "---------\n",
      "  |   |  \n",
      "---------\n"
     ]
    },
    {
     "name": "stdin",
     "output_type": "stream",
     "text": [
      "Player O, enter row and column (0-2, space separated):  2 2\n"
     ]
    },
    {
     "name": "stdout",
     "output_type": "stream",
     "text": [
      "O |   |  \n",
      "---------\n",
      "  | X |  \n",
      "---------\n",
      "  |   | O\n",
      "---------\n",
      "\n",
      "AI's Move:\n",
      "O |   |  \n",
      "---------\n",
      "  | X | X\n",
      "---------\n",
      "  |   | O\n",
      "---------\n"
     ]
    },
    {
     "name": "stdin",
     "output_type": "stream",
     "text": [
      "Player O, enter row and column (0-2, space separated):  1 0\n"
     ]
    },
    {
     "name": "stdout",
     "output_type": "stream",
     "text": [
      "O |   |  \n",
      "---------\n",
      "O | X | X\n",
      "---------\n",
      "  |   | O\n",
      "---------\n",
      "\n",
      "AI's Move:\n",
      "O |   |  \n",
      "---------\n",
      "O | X | X\n",
      "---------\n",
      "X |   | O\n",
      "---------\n"
     ]
    },
    {
     "name": "stdin",
     "output_type": "stream",
     "text": [
      "Player O, enter row and column (0-2, space separated):  0 2\n"
     ]
    },
    {
     "name": "stdout",
     "output_type": "stream",
     "text": [
      "O |   | O\n",
      "---------\n",
      "O | X | X\n",
      "---------\n",
      "X |   | O\n",
      "---------\n",
      "\n",
      "AI's Move:\n",
      "O | X | O\n",
      "---------\n",
      "O | X | X\n",
      "---------\n",
      "X |   | O\n",
      "---------\n"
     ]
    },
    {
     "name": "stdin",
     "output_type": "stream",
     "text": [
      "Player O, enter row and column (0-2, space separated):  2 1\n"
     ]
    },
    {
     "name": "stdout",
     "output_type": "stream",
     "text": [
      "O | X | O\n",
      "---------\n",
      "O | X | X\n",
      "---------\n",
      "X | O | O\n",
      "---------\n",
      "It's a Draw!\n"
     ]
    }
   ],
   "source": [
    "import random\n",
    "import copy\n",
    "\n",
    "def check_winner(board):\n",
    "    for row in board:\n",
    "        if row[0] == row[1] == row[2] and row[0] is not None:\n",
    "            return row[0]\n",
    "    for col in range(3):\n",
    "        if board[0][col] == board[1][col] == board[2][col] and board[0][col] is not None:\n",
    "            return board[0][col]\n",
    "    if board[0][0] == board[1][1] == board[2][2] and board[0][0] is not None:\n",
    "        return board[0][0]\n",
    "    if board[0][2] == board[1][1] == board[2][0] and board[0][2] is not None:\n",
    "        return board[0][2]\n",
    "    return None\n",
    "\n",
    "def is_draw(board):\n",
    "    return all(cell is not None for row in board for cell in row)\n",
    "\n",
    "def get_empty_cells(board):\n",
    "    return [(i, j) for i in range(3) for j in range(3) if board[i][j] is None]\n",
    "\n",
    "def simulate_random_game(board, current_player):\n",
    "    board_copy = copy.deepcopy(board)\n",
    "    players = [\"X\", \"O\"]\n",
    "    player_index = players.index(current_player)\n",
    "\n",
    "    while True:\n",
    "        winner = check_winner(board_copy)\n",
    "        if winner is not None:\n",
    "            return winner\n",
    "        if is_draw(board_copy):\n",
    "            return \"Draw\"\n",
    "\n",
    "        empty_cells = get_empty_cells(board_copy)\n",
    "        move = random.choice(empty_cells)\n",
    "        board_copy[move[0]][move[1]] = players[player_index]\n",
    "        player_index = 1 - player_index  # Switch player\n",
    "\n",
    "def mcts_move(board, simulations=1000):\n",
    "    best_move = None\n",
    "    best_win_rate = -1\n",
    "\n",
    "    for move in get_empty_cells(board):\n",
    "        wins = 0\n",
    "        for _ in range(simulations):\n",
    "            board_copy = copy.deepcopy(board)\n",
    "            board_copy[move[0]][move[1]] = \"X\"\n",
    "            result = simulate_random_game(board_copy, \"O\")  # AI is \"X\", opponent is \"O\"\n",
    "            if result == \"X\":\n",
    "                wins += 1\n",
    "        win_rate = wins / simulations\n",
    "\n",
    "        if win_rate > best_win_rate:\n",
    "            best_win_rate = win_rate\n",
    "            best_move = move\n",
    "\n",
    "    return best_move\n",
    "\n",
    "def print_board(board):\n",
    "    for row in board:\n",
    "        print(\" | \".join([cell if cell else \" \" for cell in row]))\n",
    "        print(\"-\" * 9)\n",
    "\n",
    "def player_move(board, player):\n",
    "    while True:\n",
    "        try:\n",
    "            row, col = map(int, input(f\"Player {player}, enter row and column (0-2, space separated): \").split())\n",
    "            if board[row][col] is None:\n",
    "                board[row][col] = player\n",
    "                break\n",
    "            else:\n",
    "                print(\"Cell already occupied! Try again.\")\n",
    "        except (ValueError, IndexError):\n",
    "            print(\"Invalid input! Enter row and column (0-2).\")\n",
    "\n",
    "def play_game():\n",
    "    board = [[None] * 3 for _ in range(3)]\n",
    "    print(\"Choose Game Mode:\")\n",
    "    print(\"1. Player vs Player\")\n",
    "    print(\"2. Player vs AI\")\n",
    "\n",
    "    while True:\n",
    "        mode = input(\"Enter choice (1 or 2): \")\n",
    "        if mode in (\"1\", \"2\"):\n",
    "            break\n",
    "        print(\"Invalid choice! Enter 1 or 2.\")\n",
    "\n",
    "    print_board(board)\n",
    "    if mode == \"1\":\n",
    "        player_vs_player(board)\n",
    "    else:\n",
    "        player_vs_ai(board)\n",
    "\n",
    "def player_vs_player(board):\n",
    "    current_player = \"O\"\n",
    "    while True:\n",
    "        player_move(board, current_player)\n",
    "        print_board(board)\n",
    "        if check_winner(board) == current_player:\n",
    "            print(f\"Player {current_player} Wins!\")\n",
    "            break\n",
    "        elif is_draw(board):\n",
    "            print(\"It's a Draw!\")\n",
    "            break\n",
    "        current_player = \"X\" if current_player == \"O\" else \"O\"\n",
    "\n",
    "def player_vs_ai(board):\n",
    "    print(\"You are 'O', AI is 'X'\")\n",
    "    while True:\n",
    "        player_move(board, \"O\")\n",
    "        print_board(board)\n",
    "        if check_winner(board) == \"O\":\n",
    "            print(\"You Win!\")\n",
    "            break\n",
    "        elif is_draw(board):\n",
    "            print(\"It's a Draw!\")\n",
    "            break\n",
    "\n",
    "        move = mcts_move(board, simulations=500)  # Reduce for faster AI\n",
    "        if move:\n",
    "            board[move[0]][move[1]] = \"X\"\n",
    "            print(\"\\nAI's Move:\")\n",
    "            print_board(board)\n",
    "\n",
    "        if check_winner(board) == \"X\":\n",
    "            print(\"AI Wins!\")\n",
    "            break\n",
    "        elif is_draw(board):\n",
    "            print(\"It's a Draw!\")\n",
    "            break\n",
    "\n",
    "play_game()\n"
   ]
  },
  {
   "cell_type": "code",
   "execution_count": null,
   "id": "52bf994e-6870-4bcf-bc90-2edc7f48f27f",
   "metadata": {},
   "outputs": [],
   "source": []
  }
 ],
 "metadata": {
  "kernelspec": {
   "display_name": "Python [conda env:base] *",
   "language": "python",
   "name": "conda-base-py"
  },
  "language_info": {
   "codemirror_mode": {
    "name": "ipython",
    "version": 3
   },
   "file_extension": ".py",
   "mimetype": "text/x-python",
   "name": "python",
   "nbconvert_exporter": "python",
   "pygments_lexer": "ipython3",
   "version": "3.12.7"
  }
 },
 "nbformat": 4,
 "nbformat_minor": 5
}
